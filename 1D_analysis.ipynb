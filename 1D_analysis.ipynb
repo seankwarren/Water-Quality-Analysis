{
 "cells": [
  {
   "cell_type": "code",
   "execution_count": 1,
   "metadata": {},
   "outputs": [
    {
     "ename": "ModuleNotFoundError",
     "evalue": "No module named 'pingouin'",
     "output_type": "error",
     "traceback": [
      "\u001b[1;31m---------------------------------------------------------------------------\u001b[0m",
      "\u001b[1;31mModuleNotFoundError\u001b[0m                       Traceback (most recent call last)",
      "\u001b[1;32m<ipython-input-1-1cfce0e2ffb4>\u001b[0m in \u001b[0;36m<module>\u001b[1;34m\u001b[0m\n\u001b[0;32m      8\u001b[0m \u001b[1;32mfrom\u001b[0m \u001b[0msklearn\u001b[0m\u001b[1;33m.\u001b[0m\u001b[0mpreprocessing\u001b[0m \u001b[1;32mimport\u001b[0m \u001b[0mStandardScaler\u001b[0m\u001b[1;33m\u001b[0m\u001b[1;33m\u001b[0m\u001b[0m\n\u001b[0;32m      9\u001b[0m \u001b[1;32mimport\u001b[0m \u001b[0mscipy\u001b[0m\u001b[1;33m.\u001b[0m\u001b[0mstats\u001b[0m \u001b[1;32mas\u001b[0m \u001b[0mstat\u001b[0m\u001b[1;33m\u001b[0m\u001b[1;33m\u001b[0m\u001b[0m\n\u001b[1;32m---> 10\u001b[1;33m \u001b[1;32mimport\u001b[0m \u001b[0mpingouin\u001b[0m \u001b[1;32mas\u001b[0m \u001b[0mpg\u001b[0m\u001b[1;33m\u001b[0m\u001b[1;33m\u001b[0m\u001b[0m\n\u001b[0m\u001b[0;32m     11\u001b[0m \u001b[1;33m\u001b[0m\u001b[0m\n\u001b[0;32m     12\u001b[0m \u001b[1;31m#importing data\u001b[0m\u001b[1;33m\u001b[0m\u001b[1;33m\u001b[0m\u001b[1;33m\u001b[0m\u001b[0m\n",
      "\u001b[1;31mModuleNotFoundError\u001b[0m: No module named 'pingouin'"
     ]
    }
   ],
   "source": [
    "### John Pederson, F19 ###\n",
    "\n",
    "#loading dependencies\n",
    "import numpy as np\n",
    "import pandas as pd\n",
    "import matplotlib.pyplot as plt\n",
    "import seaborn as sns\n",
    "from sklearn.preprocessing import StandardScaler\n",
    "import scipy.stats as stat\n",
    "import pingouin as pg\n",
    "\n",
    "#importing data\n",
    "data = pd.read_csv('data/sample_dataframe_ecoli.csv')\n",
    "data.head()"
   ]
  },
  {
   "cell_type": "code",
   "execution_count": null,
   "metadata": {},
   "outputs": [],
   "source": [
    "### John Pederson, F19 ###\n",
    "\n",
    "#splitting dataframe into sites\n",
    "chat = data[data['Loc'] != 'USGS-02336526']\n",
    "proc = data[data['Loc'] == 'USGS-02336526']\n",
    "\n",
    "chat_1 = data[data['Loc'] == 'USGS-02336000']\n",
    "chat_2 = data[data['Loc'] == 'USGS-02335830']\n",
    "chat_3 = data[data['Loc'] == 'USGS-02335000']\n",
    "\n",
    "#plotting kernel density plots\n",
    "ax = sns.kdeplot(proc['Col'].values,shade=True,label='Proctor Creek')\n",
    "ax = sns.kdeplot(chat['Col'].values,shade=True,color='r',label='Chattahoochee River')\n",
    "ax.legend()"
   ]
  },
  {
   "cell_type": "code",
   "execution_count": null,
   "metadata": {},
   "outputs": [],
   "source": [
    "### John Pederson, F19 ###\n",
    "\n",
    "#plotting kernel density plots\n",
    "ax = sns.kdeplot(proc['Con'].values,shade=True,label='Proctor Creek')\n",
    "ax = sns.kdeplot(chat['Con'].values,shade=True,color='r',label='Chattahoochee River')\n",
    "ax.legend()"
   ]
  },
  {
   "cell_type": "code",
   "execution_count": null,
   "metadata": {},
   "outputs": [],
   "source": [
    "### John Pederson, F19 ###\n",
    "\n",
    "#plotting kernel density plots\n",
    "ax = sns.kdeplot(proc['Tur'].values,shade=True,label='Proctor Creek')\n",
    "ax = sns.kdeplot(chat['Tur'].values,shade=True,color='r',label='Chattahoochee River')\n",
    "ax.legend()"
   ]
  },
  {
   "cell_type": "code",
   "execution_count": null,
   "metadata": {},
   "outputs": [],
   "source": [
    "### John Pederson, F19 ###\n",
    "\n",
    "#instantiating descriptive statistics dataframe\n",
    "df = pd.DataFrame({'Site':[],'Measurement':[],'Observations':[],'Minimum':[],'Maximum':[],'Mean':[],'Variance':[],'Standard Deviation':[],'Skew':[],'Kurtosis':[]})\n",
    "\n",
    "#getting names\n",
    "names = np.unique(data['Loc'].values)\n",
    "measures = ['Col','Con','Tur']\n",
    "\n",
    "#populating descriptive statistics dataframe\n",
    "for name in names:\n",
    "    site = data[data['Loc']==name]\n",
    "    for measure in measures:\n",
    "        stats = stat.describe(site[measure].values)\n",
    "        dfi = pd.DataFrame({'Site':[name],'Measurement':[measure],'Observations':[stats.nobs],'Minimum':[stats.minmax[0]],'Maximum':[stats.minmax[1]],'Mean':[stats.mean],'Variance':[stats.variance],'Standard Deviation':[np.sqrt(stats.variance)],'Skew':[stats.skewness],'Kurtosis':[stats.kurtosis]})\n",
    "        df = pd.concat([df,dfi],ignore_index=True)\n",
    "\n",
    "#saving and displaying results\n",
    "df.to_csv('descriptive_stats.csv')\n",
    "df.head()"
   ]
  },
  {
   "cell_type": "code",
   "execution_count": null,
   "metadata": {},
   "outputs": [],
   "source": [
    "### John Pederson, F19 ###\n",
    "\n",
    "#instantiating Mann-Whitney U Test Array (p-value, common-language, cohen's d)\n",
    "mwu_pv = np.zeros((4,4,3))\n",
    "mwu_cl = np.zeros((4,4,3))\n",
    "mwu_cd = np.zeros((4,4,3))\n",
    "\n",
    "#populating arrays\n",
    "for i in range(len(names)):\n",
    "    for j in range(len(names)):\n",
    "        site_1 = data[data['Loc']==names[i]]\n",
    "        site_2 = data[data['Loc']==names[j]]\n",
    "        for k in range(len(measures)):\n",
    "            result = pg.mwu(site_1[measures[k]].values,site_2[measures[k]].values)\n",
    "            mwu_pv[i,j,k] = result['p-val'].values\n",
    "            mwu_cl[i,j,k] = result['CLES'].values\n",
    "            mwu_cd[i,j,k] = np.sqrt(2)*stat.norm.ppf(result['CLES'].values)\n",
    "    \n",
    "#plotting results\n",
    "ax = sns.heatmap(mwu_cl[:,:,0],xticklabels=names,yticklabels=names,annot=True,square=True)"
   ]
  },
  {
   "cell_type": "code",
   "execution_count": null,
   "metadata": {},
   "outputs": [],
   "source": [
    "### John Pederson, F19 ###\n",
    "\n",
    "#plotting results\n",
    "ax = sns.heatmap(mwu_cl[:,:,1],xticklabels=names,yticklabels=names,annot=True,square=True)"
   ]
  },
  {
   "cell_type": "code",
   "execution_count": null,
   "metadata": {},
   "outputs": [],
   "source": [
    "### John Pederson, F19 ###\n",
    "\n",
    "#plotting results\n",
    "ax = sns.heatmap(mwu_cl[:,:,2],xticklabels=names,yticklabels=names,annot=True,square=True)"
   ]
  },
  {
   "cell_type": "code",
   "execution_count": null,
   "metadata": {},
   "outputs": [],
   "source": [
    "### John Pederson, F19 ###\n",
    "\n",
    "#plotting results\n",
    "ax = sns.heatmap(mwu_cd[:,:,0],xticklabels=names,yticklabels=names,annot=True,square=True)"
   ]
  },
  {
   "cell_type": "code",
   "execution_count": null,
   "metadata": {},
   "outputs": [],
   "source": [
    "### John Pederson, F19 ###\n",
    "\n",
    "#plotting results\n",
    "ax = sns.heatmap(mwu_cd[:,:,1],xticklabels=names,yticklabels=names,annot=True,square=True)"
   ]
  },
  {
   "cell_type": "code",
   "execution_count": null,
   "metadata": {},
   "outputs": [],
   "source": [
    "### John Pederson, F19 ###\n",
    "\n",
    "#plotting results\n",
    "ax = sns.heatmap(mwu_cd[:,:,2],xticklabels=names,yticklabels=names,annot=True,square=True)"
   ]
  },
  {
   "cell_type": "code",
   "execution_count": null,
   "metadata": {},
   "outputs": [],
   "source": [
    "### John Pederson, F19 ###\n",
    "\n",
    "#plotting results\n",
    "ax = sns.heatmap(mwu_pv[:,:,0],xticklabels=names,yticklabels=names,annot=True,square=True)"
   ]
  },
  {
   "cell_type": "code",
   "execution_count": null,
   "metadata": {},
   "outputs": [],
   "source": [
    "### John Pederson, F19 ###\n",
    "\n",
    "#plotting results\n",
    "ax = sns.heatmap(mwu_pv[:,:,1],xticklabels=names,yticklabels=names,annot=True,square=True)"
   ]
  },
  {
   "cell_type": "code",
   "execution_count": null,
   "metadata": {},
   "outputs": [],
   "source": [
    "### John Pederson, F19 ###\n",
    "\n",
    "#plotting results\n",
    "ax = sns.heatmap(mwu_pv[:,:,2],xticklabels=names,yticklabels=names,annot=True,square=True)"
   ]
  },
  {
   "cell_type": "code",
   "execution_count": null,
   "metadata": {},
   "outputs": [],
   "source": []
  }
 ],
 "metadata": {
  "kernelspec": {
   "display_name": "Python 3",
   "language": "python",
   "name": "python3"
  },
  "language_info": {
   "codemirror_mode": {
    "name": "ipython",
    "version": 3
   },
   "file_extension": ".py",
   "mimetype": "text/x-python",
   "name": "python",
   "nbconvert_exporter": "python",
   "pygments_lexer": "ipython3",
   "version": "3.7.3"
  }
 },
 "nbformat": 4,
 "nbformat_minor": 2
}
