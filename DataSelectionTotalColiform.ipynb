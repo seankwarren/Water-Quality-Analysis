{
 "cells": [
  {
   "cell_type": "markdown",
   "metadata": {
    "colab_type": "text",
    "id": "30WYNYDObbST"
   },
   "source": [
    "### Variable Names and Descriptions:\n",
    "  * <b>data</b> = geopandas dataframe of ARC shape file\n",
    "  * <b>stream_rivers</b> = data subframe where feature type is Stream/River\n",
    "  \n",
    "  \n",
    "  * <b>proctor_creeks</b> = stream_rivers subframe where name contains proctor\n",
    "    * <b>proctor_creek</b> = proctor_creeks subframe where countyFIPS is fulton (121)\n",
    "  * <b>chatahoochee_rivers</b> = stream_rivers subframe where name contains chatahoochee\n",
    "    * <b>chatahoochee_river</b> = chatahoochee_rivers subframe where countyFIPS is fulton (121)\n",
    "   \n",
    "   \n",
    "  * <b>pc_bbox</b> = array (w, s, e, n) of values bounding line shape stored in proctor_creek \n",
    "  * <b>cr_bbox</b> = array of values bounding line shape stored in chattahoochee_river \n",
    "    * <b>cr_upstream</b> array of values bounding nw of pc_bbox and ne of cr_bbox, <i>defines portion of chattahoochee_river upstream from proctor_creek</i>\n",
    "    \n",
    "    \n",
    "  * <b>pc_stations</b> = geopandas dataframe of geojson pulled from uswaterdata using bbox (in pc_bbox, near proctor_creek)\n",
    "  * <b>cr_stations</b> = geopandas dataframe of geojson pulled from uswaterdata using bbox (in cr_upstream, near chattahoochee_river)\n",
    "  * <b>all_stations</b> = <i>re-indexed</i> geopandas dataframe combination of cr_stations and pc_stations with activityCount greater than 200\n",
    "  \n",
    "  \n",
    "  * <b>coliformSimple</b> = all coliform results for all stations scrubbed from uswaterquality. Organized linearly by stations moving south and then by date getting more recent"
   ]
  },
  {
   "cell_type": "code",
   "execution_count": 1,
   "metadata": {
    "colab": {
     "base_uri": "https://localhost:8080/",
     "height": 375
    },
    "colab_type": "code",
    "executionInfo": {
     "elapsed": 344,
     "status": "error",
     "timestamp": 1573676694932,
     "user": {
      "displayName": "Quinn Knapper",
      "photoUrl": "https://lh3.googleusercontent.com/a-/AAuE7mB0Vzs4FKItyn2c50V1h6SG54uPpGqRsMWWBIHsVQ=s64",
      "userId": "12565197861606057656"
     },
     "user_tz": 300
    },
    "id": "sHTuINvbbbSY",
    "outputId": "9fc4fc1b-847e-4fc8-96a4-afeb55919f46"
   },
   "outputs": [],
   "source": [
    "#import libraries\n",
    "#john was here\n",
    "import time\n",
    "import json\n",
    "import requests\n",
    "import numpy as np\n",
    "import pandas as pd\n",
    "import geopandas as gpd\n",
    "from io import StringIO\n",
    "\n",
    "%matplotlib inline\n",
    "import matplotlib.pyplot as plt\n",
    "\n",
    "\n",
    "#import ARC river and streams data \n",
    "data = gpd.read_file('data/Rivers_Streams_Atlanta_Region.shp')\n",
    "streams_rivers = data[data['FEATURE_TY'] == 'Stream/River']"
   ]
  },
  {
   "cell_type": "code",
   "execution_count": 2,
   "metadata": {
    "colab": {
     "base_uri": "https://localhost:8080/",
     "height": 236
    },
    "colab_type": "code",
    "executionInfo": {
     "elapsed": 902,
     "status": "error",
     "timestamp": 1573676598913,
     "user": {
      "displayName": "Quinn Knapper",
      "photoUrl": "https://lh3.googleusercontent.com/a-/AAuE7mB0Vzs4FKItyn2c50V1h6SG54uPpGqRsMWWBIHsVQ=s64",
      "userId": "12565197861606057656"
     },
     "user_tz": 300
    },
    "id": "0Rjp3r7TbbSe",
    "outputId": "86f0f474-aa3c-4183-848a-ac20b5082f25"
   },
   "outputs": [
    {
     "name": "stdout",
     "output_type": "stream",
     "text": [
      "Chattahoochee River\n",
      "Chattahoochee River\n",
      "Chattahoochee River\n",
      "Chattahoochee River\n",
      "Chattahoochee River\n",
      "Chattahoochee River\n",
      "Chattahoochee River\n",
      "Chattahoochee River\n",
      "Chattahoochee River\n",
      "Chattahoochee River\n",
      "Chattahoochee River\n",
      "Chattahoochee River\n",
      "Chattahoochee River\n",
      "Chattahoochee River\n",
      "Chattahoochee River\n",
      "Proctor Creek\n",
      "Proctor Creek\n"
     ]
    }
   ],
   "source": [
    "#determine syntax of identifiers\n",
    "\n",
    "for i, stream in streams_rivers.iterrows():\n",
    "    name = stream['NAME']\n",
    "    if name is not None and 'Chattahoochee' in name:\n",
    "        print(name)\n",
    "        \n",
    "for i, stream in streams_rivers.iterrows():\n",
    "    name = stream['NAME']\n",
    "    if name is not None and 'Proctor' in name:\n",
    "        print(name)"
   ]
  },
  {
   "cell_type": "code",
   "execution_count": 3,
   "metadata": {
    "colab": {},
    "colab_type": "code",
    "id": "b-OoGtEYbbSk"
   },
   "outputs": [],
   "source": [
    "#isolate data for proctor creek and chattahoochee river in fulton county (FIP 121)\n",
    "\n",
    "proctor_creeks = streams_rivers[streams_rivers['NAME'] == 'Proctor Creek']\n",
    "proctor_creek = proctor_creeks[proctor_creeks['COUNTY_FIP'] == '121']\n",
    "\n",
    "chattahoochee_rivers = streams_rivers[streams_rivers['NAME'] == 'Chattahoochee River']\n",
    "chattahoochee_river = chattahoochee_rivers[chattahoochee_rivers['COUNTY_FIP'] == '121']"
   ]
  },
  {
   "cell_type": "code",
   "execution_count": 4,
   "metadata": {
    "colab": {},
    "colab_type": "code",
    "id": "B6w6mgRnbbSn"
   },
   "outputs": [
    {
     "data": {
      "text/plain": [
       "<matplotlib.axes._subplots.AxesSubplot at 0x1c71ea85470>"
      ]
     },
     "execution_count": 4,
     "metadata": {},
     "output_type": "execute_result"
    },
    {
     "data": {
      "image/png": "[encoded data removed]",
      "text/plain": [
       "<Figure size 432x288 with 1 Axes>"
      ]
     },
     "metadata": {
      "needs_background": "light"
     },
     "output_type": "display_data"
    }
   ],
   "source": [
    "#plot\n",
    "\n",
    "ax = chattahoochee_river.plot()\n",
    "proctor_creek.plot(ax=ax, color='r')"
   ]
  },
  {
   "cell_type": "code",
   "execution_count": 5,
   "metadata": {
    "colab": {},
    "colab_type": "code",
    "id": "rFdlkrVQbbSq"
   },
   "outputs": [
    {
     "name": "stdout",
     "output_type": "stream",
     "text": [
      "[-84.49604634545041, 33.792362810882956, -84.45397930315823, 33.80783522461392]\n",
      "[-84.8503020000398, 33.51122644162358, -84.09771636577764, 34.05055910826992]\n"
     ]
    }
   ],
   "source": [
    "#determine bounding boxes for proctor creek and chattahoochee river\n",
    "\n",
    "def boundingBox(line):\n",
    "    #takes in a line shape file and returns the bounding box as an array [west, south, east, north]\n",
    "    line_bounds = line.bounds\n",
    "    line_maxx = line_bounds['maxx'].tolist()\n",
    "    line_maxy = line_bounds['maxy'].tolist()\n",
    "    line_minx = line_bounds['minx'].tolist()\n",
    "    line_miny = line_bounds['miny'].tolist()\n",
    "    return [min(line_minx), min(line_miny), max(line_maxx), max(line_maxy)]\n",
    "\n",
    "pc = proctor_creek['geometry']\n",
    "cr = chattahoochee_river['geometry']\n",
    "\n",
    "pc_bbox = boundingBox(pc)\n",
    "cr_bbox = boundingBox(cr)\n",
    "\n",
    "print(pc_bbox)\n",
    "print(cr_bbox)"
   ]
  },
  {
   "cell_type": "code",
   "execution_count": 6,
   "metadata": {
    "colab": {},
    "colab_type": "code",
    "id": "z0qIg4isbbSt"
   },
   "outputs": [],
   "source": [
    "#obtain us water quality station data for proctor creek and chattahoochee river\n",
    "\n",
    "def getStations(line, tol=0.005, boundsArr=[]):\n",
    "    \n",
    "    #returns all stations bordering (tolerance) a line shape within a certain bounding box [w, s, e, n]\n",
    "    if len(boundsArr)==0:\n",
    "        boundsArr = boundingBox(line)\n",
    "    \n",
    "    urlTemplate = 'https://www.waterqualitydata.us/data/Station/search?bBox={west},{south},{east},{north}&mimeType=geojson'\n",
    "    url = urlTemplate.format(west=boundsArr[0], south=boundsArr[1], east=boundsArr[2], north=boundsArr[3])\n",
    "    response = requests.get(url)\n",
    "    with open('data/temp.geojson', 'w') as f:\n",
    "        f.write(response.text)\n",
    "    \n",
    "    stations = gpd.read_file('data/temp.geojson')\n",
    "    \n",
    "    idxs = []\n",
    "    for i, stream in line.iterrows():\n",
    "        for j, station in stations.iterrows():\n",
    "            if stream['geometry'].distance(station['geometry']) < tol:\n",
    "                idxs.append(j)\n",
    "            \n",
    "    close_stations = stations.loc[idxs]\n",
    "    return close_stations\n",
    "\n",
    "cr_upstream = [pc_bbox[0], pc_bbox[3], cr_bbox[2], cr_bbox[3]] #clip chattahoochee to areas upstream from proctor creek\n",
    "\n",
    "pc_stations = getStations(proctor_creek)\n",
    "cr_stations = getStations(chattahoochee_river, boundsArr=cr_upstream)"
   ]
  },
  {
   "cell_type": "code",
   "execution_count": 7,
   "metadata": {
    "colab": {},
    "colab_type": "code",
    "id": "TMg7cmIdbbSx"
   },
   "outputs": [
    {
     "data": {
      "text/plain": [
       "<matplotlib.axes._subplots.AxesSubplot at 0x1c71eac7668>"
      ]
     },
     "execution_count": 7,
     "metadata": {},
     "output_type": "execute_result"
    },
    {
     "data": {
      "image/png": "[encoded data removed]",
      "text/plain": [
       "<Figure size 432x288 with 1 Axes>"
      ]
     },
     "metadata": {
      "needs_background": "light"
     },
     "output_type": "display_data"
    }
   ],
   "source": [
    "#plot stations\n",
    "\n",
    "fig, ax = plt.subplots()\n",
    "ax.set_xlim(pc_bbox[0]-.01, cr_bbox[2]+.01)\n",
    "ax.set_ylim(pc_bbox[1]-.01, cr_bbox[3]+.01)\n",
    "\n",
    "proctor_creek.plot(ax=ax)\n",
    "chattahoochee_river.plot(ax=ax)\n",
    "pc_stations.plot(ax=ax, color='r')\n",
    "cr_stations.plot(ax=ax, color='r')"
   ]
  },
  {
   "cell_type": "code",
   "execution_count": 8,
   "metadata": {
    "colab": {},
    "colab_type": "code",
    "id": "CYqqcJGnbbS0"
   },
   "outputs": [],
   "source": [
    "#create new geojson with these stations that have more than 200 activities\n",
    "\n",
    "def largeStations(stations, count):\n",
    "    #returns items in stations with activityCount greater than count\n",
    "    stations['activityCount'] = pd.to_numeric(stations['activityCount'])\n",
    "    return stations[stations['activityCount']>count]\n",
    "\n",
    "all_stations = gpd.GeoDataFrame( pd.concat( [largeStations(cr_stations, 200), largeStations(pc_stations, 200)], ignore_index=True) )"
   ]
  },
  {
   "cell_type": "code",
   "execution_count": 9,
   "metadata": {
    "colab": {},
    "colab_type": "code",
    "id": "_f-4CNXlbbS2"
   },
   "outputs": [
    {
     "data": {
      "text/plain": [
       "<matplotlib.legend.Legend at 0x1c71fbebac8>"
      ]
     },
     "execution_count": 9,
     "metadata": {},
     "output_type": "execute_result"
    },
    {
     "data": {
      "image/png": "[encoded data removed]",
      "text/plain": [
       "<Figure size 432x288 with 1 Axes>"
      ]
     },
     "metadata": {
      "needs_background": "light"
     },
     "output_type": "display_data"
    }
   ],
   "source": [
    "#plot stations\n",
    "\n",
    "fig, ax = plt.subplots()\n",
    "ax.set_xlim(pc_bbox[0]-.01, cr_bbox[2]+.01)\n",
    "ax.set_ylim(pc_bbox[1]-.01, cr_bbox[3]+.01)\n",
    "\n",
    "proctor_creek.plot(ax=ax)\n",
    "chattahoochee_river.plot(ax=ax)\n",
    "for i in all_stations['MonitoringLocationIdentifier'].tolist():\n",
    "    all_stations[all_stations['MonitoringLocationIdentifier']==i].plot(ax=ax,label=i)\n",
    "ax.legend(fontsize='x-small')"
   ]
  },
  {
   "cell_type": "code",
   "execution_count": 10,
   "metadata": {
    "colab": {},
    "colab_type": "code",
    "id": "8mjyrelfbbS5"
   },
   "outputs": [
    {
     "name": "stdout",
     "output_type": "stream",
     "text": [
      "https://www.waterqualitydata.us/data/provider/STORET/21GAEPD_WQX/21GAEPD_WQX-1201090705/\n",
      "https://www.waterqualitydata.us/data/Station/search?siteid=21GAEPD_WQX-1201090705\n"
     ]
    },
    {
     "data": {
      "text/plain": [
       "requests.models.Response"
      ]
     },
     "execution_count": 10,
     "metadata": {},
     "output_type": "execute_result"
    }
   ],
   "source": [
    "#retrieve coliform data\n",
    "\n",
    "print(all_stations['siteUrl'][3])\n",
    "url = \"https://www.waterqualitydata.us/data/Station/search?siteid=\" + all_stations['MonitoringLocationIdentifier'][3]\n",
    "print(url)\n",
    "\n",
    "response = requests.get(all_stations['siteUrl'][3])\n",
    "response2 = requests.get(url)\n",
    "\n",
    "type(response2)\n"
   ]
  },
  {
   "cell_type": "code",
   "execution_count": 11,
   "metadata": {
    "colab": {},
    "colab_type": "code",
    "id": "G8i4dg5PbbS7"
   },
   "outputs": [
    {
     "name": "stdout",
     "output_type": "stream",
     "text": [
      "USGS-02335000, USGS-02335830, USGS-02336000, 21GAEPD_WQX-1201090705, 21GAEPD_WQX-1201110109, 21GAEPD_WQX-1201110609, 21GAEPD_WQX-RV_12_3859, 21GAEPD_WQX-RV_12_3870, 21GAEPD_WQX-RV_12_3891, CHATTAHOOCHEERIVERKEEPER-NWW10, CHATTAHOOCHEERIVERKEEPER-NWW16, USGS-02336502, 21GAEPD_WQX-1201110609, 21GAEPD_WQX-RV_12_3891, 21GAEPD_WQX-1201110609, 21GAEPD_WQX-RV_12_3891, USGS-02336526, CHATTAHOOCHEERIVERKEEPER-NWW03, "
     ]
    }
   ],
   "source": [
    "cc = pd.DataFrame()\n",
    "ph = pd.DataFrame()\n",
    "do = pd.DataFrame()\n",
    "sc = pd.DataFrame()\n",
    "tu = pd.DataFrame()\n",
    "\n",
    "siteIDs = all_stations['MonitoringLocationIdentifier'].tolist()\n",
    "\n",
    "for siteID in siteIDs:\n",
    "    \n",
    "    print(siteID, end=', ')\n",
    "    \n",
    "    url = 'https://www.waterqualitydata.us/data/Result/search?siteid=' + siteID + '&CharacteristicName=Total%20Coliform&CharacteristicName=Fecal%20Coliform&CharacteristicName=pH&CharacteristicName=Dissolved%20oxygen%20(DO)&CharacteristicName=Specific%20conductance&CharacteristicName=Turbidity'\n",
    "    response = requests.get(url)\n",
    "    \n",
    "    csv = StringIO(response.text)\n",
    "    data = pd.read_csv(csv)\n",
    "    \n",
    "    if (len(data[data['CharacteristicName']=='Fecal Coliform']) != 0):\n",
    "        cc = pd.concat((cc,data[data['CharacteristicName']=='Fecal Coliform']), axis=0)\n",
    "    \n",
    "    if (len(data[data['CharacteristicName']=='Total Coliform']) != 0):\n",
    "        cc = pd.concat((cc,data[data['CharacteristicName']=='Total Coliform']), axis=0)\n",
    "    \n",
    "    if (len(data[data['CharacteristicName']=='pH']) != 0):\n",
    "        ph = pd.concat((ph,data[data['CharacteristicName']=='pH']), axis=0)\n",
    "    \n",
    "    if (len(data[data['CharacteristicName']=='Dissolved oxygen (DO)']) != 0):\n",
    "        do = pd.concat((do,data[data['CharacteristicName']=='Dissolved oxygen (DO)']), axis=0)\n",
    "    \n",
    "    if (len(data[data['CharacteristicName']=='Specific conductance']) != 0):\n",
    "        sc = pd.concat((sc,data[data['CharacteristicName']=='Specific conductance']), axis=0)\n",
    "    \n",
    "    if (len(data[data['CharacteristicName']=='Turbidity']) != 0):\n",
    "        tu = pd.concat((tu,data[data['CharacteristicName']=='Turbidity']), axis=0)\n",
    "\n",
    "data_all = pd.concat((cc,ph,do,sc,tu), axis=0)\n",
    "data_all = data_all[~data_all['ResultMeasureValue'].isna()]"
   ]
  },
  {
   "cell_type": "code",
   "execution_count": 12,
   "metadata": {},
   "outputs": [
    {
     "data": {
      "text/html": [
       "<div>\n",
       "<style scoped>\n",
       "    .dataframe tbody tr th:only-of-type {\n",
       "        vertical-align: middle;\n",
       "    }\n",
       "\n",
       "    .dataframe tbody tr th {\n",
       "        vertical-align: top;\n",
       "    }\n",
       "\n",
       "    .dataframe thead th {\n",
       "        text-align: right;\n",
       "    }\n",
       "</style>\n",
       "<table border=\"1\" class=\"dataframe\">\n",
       "  <thead>\n",
       "    <tr style=\"text-align: right;\">\n",
       "      <th></th>\n",
       "      <th>OrganizationIdentifier</th>\n",
       "      <th>OrganizationFormalName</th>\n",
       "      <th>ActivityIdentifier</th>\n",
       "      <th>ActivityTypeCode</th>\n",
       "      <th>ActivityMediaName</th>\n",
       "      <th>ActivityMediaSubdivisionName</th>\n",
       "      <th>ActivityStartDate</th>\n",
       "      <th>ActivityStartTime/Time</th>\n",
       "      <th>ActivityStartTime/TimeZoneCode</th>\n",
       "      <th>ActivityEndDate</th>\n",
       "      <th>...</th>\n",
       "      <th>MethodDescriptionText</th>\n",
       "      <th>LaboratoryName</th>\n",
       "      <th>AnalysisStartDate</th>\n",
       "      <th>ResultLaboratoryCommentText</th>\n",
       "      <th>DetectionQuantitationLimitTypeName</th>\n",
       "      <th>DetectionQuantitationLimitMeasure/MeasureValue</th>\n",
       "      <th>DetectionQuantitationLimitMeasure/MeasureUnitCode</th>\n",
       "      <th>PreparationStartDate</th>\n",
       "      <th>ProviderName</th>\n",
       "      <th>DateTimes</th>\n",
       "    </tr>\n",
       "  </thead>\n",
       "  <tbody>\n",
       "    <tr>\n",
       "      <th>28</th>\n",
       "      <td>USGS-GA</td>\n",
       "      <td>USGS Georgia Water Science Center</td>\n",
       "      <td>nwisga.01.97601295</td>\n",
       "      <td>Sample-Routine</td>\n",
       "      <td>Water</td>\n",
       "      <td>Surface Water</td>\n",
       "      <td>1976-08-16</td>\n",
       "      <td>12:27:00</td>\n",
       "      <td>EST</td>\n",
       "      <td>NaN</td>\n",
       "      <td>...</td>\n",
       "      <td>NaN</td>\n",
       "      <td>NaN</td>\n",
       "      <td>NaN</td>\n",
       "      <td>NaN</td>\n",
       "      <td>NaN</td>\n",
       "      <td>NaN</td>\n",
       "      <td>NaN</td>\n",
       "      <td>NaN</td>\n",
       "      <td>NWIS</td>\n",
       "      <td>1976-08-16 12:27:00</td>\n",
       "    </tr>\n",
       "    <tr>\n",
       "      <th>207</th>\n",
       "      <td>USGS-GA</td>\n",
       "      <td>USGS Georgia Water Science Center</td>\n",
       "      <td>nwisga.01.00103320</td>\n",
       "      <td>Sample-Routine</td>\n",
       "      <td>Water</td>\n",
       "      <td>Surface Water</td>\n",
       "      <td>2000-11-06</td>\n",
       "      <td>10:35:00</td>\n",
       "      <td>EST</td>\n",
       "      <td>NaN</td>\n",
       "      <td>...</td>\n",
       "      <td>NaN</td>\n",
       "      <td>USGS - Georgia Water Science Center</td>\n",
       "      <td>NaN</td>\n",
       "      <td>NaN</td>\n",
       "      <td>Method Detection Limit (MDL)</td>\n",
       "      <td>1.0</td>\n",
       "      <td>cfu/100ml</td>\n",
       "      <td>NaN</td>\n",
       "      <td>NWIS</td>\n",
       "      <td>2000-11-06 10:35:00</td>\n",
       "    </tr>\n",
       "    <tr>\n",
       "      <th>213</th>\n",
       "      <td>USGS-GA</td>\n",
       "      <td>USGS Georgia Water Science Center</td>\n",
       "      <td>nwisga.01.00103322</td>\n",
       "      <td>Sample-Routine</td>\n",
       "      <td>Water</td>\n",
       "      <td>Surface Water</td>\n",
       "      <td>2000-11-08</td>\n",
       "      <td>10:12:00</td>\n",
       "      <td>EST</td>\n",
       "      <td>NaN</td>\n",
       "      <td>...</td>\n",
       "      <td>NaN</td>\n",
       "      <td>USGS - Georgia Water Science Center</td>\n",
       "      <td>NaN</td>\n",
       "      <td>NaN</td>\n",
       "      <td>Method Detection Limit (MDL)</td>\n",
       "      <td>1.0</td>\n",
       "      <td>cfu/100ml</td>\n",
       "      <td>NaN</td>\n",
       "      <td>NWIS</td>\n",
       "      <td>2000-11-08 10:12:00</td>\n",
       "    </tr>\n",
       "    <tr>\n",
       "      <th>253</th>\n",
       "      <td>USGS-GA</td>\n",
       "      <td>USGS Georgia Water Science Center</td>\n",
       "      <td>nwisga.01.00103340</td>\n",
       "      <td>Sample-Routine</td>\n",
       "      <td>Water</td>\n",
       "      <td>Surface Water</td>\n",
       "      <td>2000-12-14</td>\n",
       "      <td>10:45:00</td>\n",
       "      <td>EST</td>\n",
       "      <td>NaN</td>\n",
       "      <td>...</td>\n",
       "      <td>NaN</td>\n",
       "      <td>NaN</td>\n",
       "      <td>NaN</td>\n",
       "      <td>NaN</td>\n",
       "      <td>Method Detection Limit (MDL)</td>\n",
       "      <td>1.0</td>\n",
       "      <td>cfu/100ml</td>\n",
       "      <td>NaN</td>\n",
       "      <td>NWIS</td>\n",
       "      <td>2000-12-14 10:45:00</td>\n",
       "    </tr>\n",
       "    <tr>\n",
       "      <th>279</th>\n",
       "      <td>USGS-GA</td>\n",
       "      <td>USGS Georgia Water Science Center</td>\n",
       "      <td>nwisga.01.00103354</td>\n",
       "      <td>Sample-Routine</td>\n",
       "      <td>Water</td>\n",
       "      <td>Surface Water</td>\n",
       "      <td>2001-01-22</td>\n",
       "      <td>09:37:00</td>\n",
       "      <td>EST</td>\n",
       "      <td>NaN</td>\n",
       "      <td>...</td>\n",
       "      <td>NaN</td>\n",
       "      <td>USGS - Georgia Water Science Center</td>\n",
       "      <td>NaN</td>\n",
       "      <td>NaN</td>\n",
       "      <td>Method Detection Limit (MDL)</td>\n",
       "      <td>1.0</td>\n",
       "      <td>cfu/100ml</td>\n",
       "      <td>NaN</td>\n",
       "      <td>NWIS</td>\n",
       "      <td>2001-01-22 09:37:00</td>\n",
       "    </tr>\n",
       "  </tbody>\n",
       "</table>\n",
       "<p>5 rows × 64 columns</p>\n",
       "</div>"
      ],
      "text/plain": [
       "    OrganizationIdentifier             OrganizationFormalName  \\\n",
       "28                 USGS-GA  USGS Georgia Water Science Center   \n",
       "207                USGS-GA  USGS Georgia Water Science Center   \n",
       "213                USGS-GA  USGS Georgia Water Science Center   \n",
       "253                USGS-GA  USGS Georgia Water Science Center   \n",
       "279                USGS-GA  USGS Georgia Water Science Center   \n",
       "\n",
       "     ActivityIdentifier ActivityTypeCode ActivityMediaName  \\\n",
       "28   nwisga.01.97601295   Sample-Routine             Water   \n",
       "207  nwisga.01.00103320   Sample-Routine             Water   \n",
       "213  nwisga.01.00103322   Sample-Routine             Water   \n",
       "253  nwisga.01.00103340   Sample-Routine             Water   \n",
       "279  nwisga.01.00103354   Sample-Routine             Water   \n",
       "\n",
       "    ActivityMediaSubdivisionName ActivityStartDate ActivityStartTime/Time  \\\n",
       "28                 Surface Water        1976-08-16               12:27:00   \n",
       "207                Surface Water        2000-11-06               10:35:00   \n",
       "213                Surface Water        2000-11-08               10:12:00   \n",
       "253                Surface Water        2000-12-14               10:45:00   \n",
       "279                Surface Water        2001-01-22               09:37:00   \n",
       "\n",
       "    ActivityStartTime/TimeZoneCode ActivityEndDate  ... MethodDescriptionText  \\\n",
       "28                             EST             NaN  ...                   NaN   \n",
       "207                            EST             NaN  ...                   NaN   \n",
       "213                            EST             NaN  ...                   NaN   \n",
       "253                            EST             NaN  ...                   NaN   \n",
       "279                            EST             NaN  ...                   NaN   \n",
       "\n",
       "                          LaboratoryName  AnalysisStartDate  \\\n",
       "28                                   NaN                NaN   \n",
       "207  USGS - Georgia Water Science Center                NaN   \n",
       "213  USGS - Georgia Water Science Center                NaN   \n",
       "253                                  NaN                NaN   \n",
       "279  USGS - Georgia Water Science Center                NaN   \n",
       "\n",
       "     ResultLaboratoryCommentText  DetectionQuantitationLimitTypeName  \\\n",
       "28                           NaN                                 NaN   \n",
       "207                          NaN        Method Detection Limit (MDL)   \n",
       "213                          NaN        Method Detection Limit (MDL)   \n",
       "253                          NaN        Method Detection Limit (MDL)   \n",
       "279                          NaN        Method Detection Limit (MDL)   \n",
       "\n",
       "     DetectionQuantitationLimitMeasure/MeasureValue  \\\n",
       "28                                              NaN   \n",
       "207                                             1.0   \n",
       "213                                             1.0   \n",
       "253                                             1.0   \n",
       "279                                             1.0   \n",
       "\n",
       "     DetectionQuantitationLimitMeasure/MeasureUnitCode  PreparationStartDate  \\\n",
       "28                                                 NaN                   NaN   \n",
       "207                                          cfu/100ml                   NaN   \n",
       "213                                          cfu/100ml                   NaN   \n",
       "253                                          cfu/100ml                   NaN   \n",
       "279                                          cfu/100ml                   NaN   \n",
       "\n",
       "     ProviderName           DateTimes  \n",
       "28           NWIS 1976-08-16 12:27:00  \n",
       "207          NWIS 2000-11-06 10:35:00  \n",
       "213          NWIS 2000-11-08 10:12:00  \n",
       "253          NWIS 2000-12-14 10:45:00  \n",
       "279          NWIS 2001-01-22 09:37:00  \n",
       "\n",
       "[5 rows x 64 columns]"
      ]
     },
     "execution_count": 12,
     "metadata": {},
     "output_type": "execute_result"
    }
   ],
   "source": [
    "dates = data_all['ActivityStartDate'].values.tolist()\n",
    "times = data_all['ActivityStartTime/Time'].values.tolist()\n",
    "\n",
    "datetimes = []\n",
    "for di,ti in zip(dates, times):\n",
    "    if type(ti) is str:\n",
    "        datetimes.append(di+' '+ti)\n",
    "    else:\n",
    "        datetimes.append(np.nan)\n",
    "\n",
    "datetimes = pd.to_datetime(datetimes)\n",
    "data_all_datetime = data_all\n",
    "data_all_datetime['DateTimes'] = datetimes\n",
    "data_all_datetime.head(5)"
   ]
  },
  {
   "cell_type": "code",
   "execution_count": 13,
   "metadata": {
    "colab": {},
    "colab_type": "code",
    "id": "YI2alJlhbbS_"
   },
   "outputs": [
    {
     "name": "stdout",
     "output_type": "stream",
     "text": [
      "1957-09-17 16:30:00 2019-09-25 13:35:00\n",
      "['21GAEPD_WQX-1201110609' 'USGS-02335000' 'USGS-02335830' 'USGS-02336000'\n",
      " 'USGS-02336526']\n"
     ]
    }
   ],
   "source": [
    "#plot coliform timelines\n",
    "\n",
    "startDate = min(data_all_datetime['DateTimes'])\n",
    "endDate = max(data_all_datetime['DateTimes'])\n",
    "\n",
    "cc = cc[~cc['ResultMeasureValue'].isna()]\n",
    "ph = ph[~ph['ResultMeasureValue'].isna()]\n",
    "do = do[~do['ResultMeasureValue'].isna()]\n",
    "sc = sc[~sc['ResultMeasureValue'].isna()]\n",
    "tu = tu[~tu['ResultMeasureValue'].isna()]\n",
    "\n",
    "cc_f = pd.DataFrame()\n",
    "ph_f = pd.DataFrame()\n",
    "do_f = pd.DataFrame()\n",
    "sc_f = pd.DataFrame()\n",
    "tu_f = pd.DataFrame()\n",
    "\n",
    "\n",
    "print(startDate, endDate)\n",
    "\n",
    "good_sites = []\n",
    "\n",
    "for i, siteID in enumerate(siteIDs):\n",
    "    #print(siteID, end=\": \")\n",
    "    \n",
    "    #data_timeline = pd.DataFrame()\n",
    "    cc_temp = cc[cc['MonitoringLocationIdentifier']==siteID]\n",
    "    ph_temp = ph[ph['MonitoringLocationIdentifier']==siteID]\n",
    "    do_temp = do[do['MonitoringLocationIdentifier']==siteID]\n",
    "    sc_temp = sc[sc['MonitoringLocationIdentifier']==siteID]\n",
    "    tu_temp = tu[tu['MonitoringLocationIdentifier']==siteID]\n",
    "    \n",
    "    #print(len(cc_temp))\n",
    "    #print(len(ph_temp))\n",
    "    #print(len(do_temp))\n",
    "    #print(len(sc_temp))\n",
    "    #print(len(tu_temp))\n",
    "    #print(' ')\n",
    "    \n",
    "    if len(cc_temp)>200 and len(sc_temp)>200 and len(tu_temp)>200:\n",
    "        good_sites.append(siteID)\n",
    "        \n",
    "        cc_f = pd.concat((cc_f,cc_temp),axis=0)\n",
    "        ph_f = pd.concat((ph_f,ph_temp),axis=0)\n",
    "        do_f = pd.concat((do_f,do_temp),axis=0)\n",
    "        sc_f = pd.concat((sc_f,sc_temp),axis=0)\n",
    "        tu_f = pd.concat((tu_f,tu_temp),axis=0)\n",
    "        \n",
    "        #print(siteID)\n",
    "        #coliformTimeline =  temp[['DateTimes', 'ResultMeasureValue']]\n",
    "        #coliformTimeline = coliformTimeline.set_index('DateTimes')\n",
    "        \n",
    "        #plot together\n",
    "        #coliformTimeline.plot(ax=ax1, lw=1, label=siteID)\n",
    "        #start, end = ax1.get_xlim()\n",
    "        \n",
    "        #plot on separate\n",
    "        #fig, ax = plt.subplots()\n",
    "        #ax.set_ylabel(siteID)\n",
    "        #ax.set_xlabel('')\n",
    "        #coliformTimeline.plot(label=siteID)\n",
    "        #ax.set_xlim(start, end)\n",
    "\n",
    "good_sites =np.unique(good_sites)\n",
    "print(good_sites)"
   ]
  },
  {
   "cell_type": "code",
   "execution_count": 14,
   "metadata": {},
   "outputs": [
    {
     "name": "stderr",
     "output_type": "stream",
     "text": [
      "C:\\Users\\Trogdor\\Anaconda3\\lib\\site-packages\\geopandas\\plotting.py:405: UserWarning: The GeoDataFrame you are attempting to plot is empty. Nothing has been displayed.\n",
      "  \"empty. Nothing has been displayed.\", UserWarning)\n"
     ]
    },
    {
     "data": {
      "text/plain": [
       "<matplotlib.legend.Legend at 0x1c71ebd0240>"
      ]
     },
     "execution_count": 14,
     "metadata": {},
     "output_type": "execute_result"
    },
    {
     "data": {
      "image/png": "[encoded data removed]",
      "text/plain": [
       "<Figure size 432x288 with 1 Axes>"
      ]
     },
     "metadata": {
      "needs_background": "light"
     },
     "output_type": "display_data"
    }
   ],
   "source": [
    "#plot stations\n",
    "\n",
    "fig, ax = plt.subplots()\n",
    "ax.set_xlim(pc_bbox[0]-.01, cr_bbox[2]+.01)\n",
    "ax.set_ylim(pc_bbox[1]-.01, cr_bbox[3]+.01)\n",
    "\n",
    "proctor_creek.plot(ax=ax)\n",
    "chattahoochee_river.plot(ax=ax)\n",
    "\n",
    "for i in np.unique(good_sites):\n",
    "    pc_stations[pc_stations['MonitoringLocationIdentifier']==i].plot(ax=ax,label=i)\n",
    "    cr_stations[cr_stations['MonitoringLocationIdentifier']==i].plot(ax=ax,label=i)\n",
    "    \n",
    "ax.legend(loc=4)"
   ]
  },
  {
   "cell_type": "code",
   "execution_count": 15,
   "metadata": {},
   "outputs": [
    {
     "name": "stdout",
     "output_type": "stream",
     "text": [
      "             Loc       Date      Col   Con  Tur\n",
      "0  USGS-02335000 2001-08-21  12000.0  49.0  7.4\n",
      "0  USGS-02335000 2001-08-22    720.0  50.0  3.7\n",
      "0  USGS-02335000 2001-08-23   1200.0  52.0  4.0\n",
      "0  USGS-02335000 2001-08-28   1600.0  52.0  2.8\n",
      "0  USGS-02335000 2001-08-29    880.0  53.0  2.5\n"
     ]
    }
   ],
   "source": [
    "### John Pederson, F19 ###\n",
    "\n",
    "#importing dependencies\n",
    "from sklearn.preprocessing import StandardScaler\n",
    "\n",
    "dates = cc_f['ActivityStartDate'].values.tolist()\n",
    "datetimes = pd.to_datetime(dates)\n",
    "cc_f = cc_f\n",
    "cc_f ['DateTimes'] = datetimes\n",
    "\n",
    "dates = sc_f['ActivityStartDate'].values.tolist()\n",
    "datetimes = pd.to_datetime(dates)\n",
    "sc_f = sc_f\n",
    "sc_f ['DateTimes'] = datetimes\n",
    "\n",
    "dates = tu_f['ActivityStartDate'].values.tolist()\n",
    "datetimes = pd.to_datetime(dates)\n",
    "tu_f = tu_f\n",
    "tu_f ['DateTimes'] = datetimes\n",
    "\n",
    "samples = pd.DataFrame()\n",
    "for i in range(len(cc_f)):\n",
    "    if not np.isnan(cc_f['ResultMeasureValue'].tolist()[i]):\n",
    "        vec = [cc_f['ResultMeasureValue'].tolist()[i]]\n",
    "        loc = cc_f['MonitoringLocationIdentifier'].tolist()[i]\n",
    "        dat = cc_f['DateTimes'].tolist()[i]\n",
    "        \n",
    "        sc_i = sc_f[sc_f['DateTimes']==dat]\n",
    "        sc_i = sc_i[sc_i['MonitoringLocationIdentifier']==loc]\n",
    "        if len(sc_i) == 1:\n",
    "            vec.append(sc_i['ResultMeasureValue'].tolist()[0])\n",
    "        \n",
    "        tu_i = tu_f[tu_f['DateTimes']==dat]\n",
    "        tu_i = tu_i[tu_i['MonitoringLocationIdentifier']==loc]\n",
    "        if len(tu_i) == 1:\n",
    "            vec.append(tu_i['ResultMeasureValue'].tolist()[0])\n",
    "        \n",
    "        if len(vec) == 3:\n",
    "            col = vec[0]\n",
    "            con = vec[1]\n",
    "            tur = vec[2]\n",
    "            samp_i = pd.DataFrame({'Loc':[loc],'Date':[dat],'Col':[col],'Con':[con],'Tur':[tur]})\n",
    "            samples = pd.concat((samples,samp_i),axis=0)\n",
    "\n",
    "print(samples.head(5))\n",
    "samples.to_csv('data/sample_dataframe_totalcoliform.csv')"
   ]
  },
  {
   "cell_type": "code",
   "execution_count": 16,
   "metadata": {},
   "outputs": [
    {
     "data": {
      "text/plain": [
       "'totalcoliform_2.html'"
      ]
     },
     "execution_count": 16,
     "metadata": {},
     "output_type": "execute_result"
    }
   ],
   "source": [
    "### John Pederson, F19 ###\n",
    "\n",
    "#loading dependencies\n",
    "import plotly.graph_objects as go\n",
    "import plotly\n",
    "\n",
    "scale = StandardScaler()\n",
    "\n",
    "labels = np.array(samples['Loc'].tolist())\n",
    "col = scale.fit_transform(samples['Col'].values.reshape(-1,1))\n",
    "con = scale.fit_transform(samples['Con'].values.reshape(-1,1))\n",
    "tur = scale.fit_transform(samples['Tur'].values.reshape(-1,1))\n",
    "\n",
    "col = [i[0] for i in col]\n",
    "con = [i[0] for i in con]\n",
    "tur = [i[0] for i in tur]\n",
    "\n",
    "samples['Col_Std'] = col\n",
    "samples['Con_Std'] = con\n",
    "samples['Tur_Std'] = tur\n",
    "\n",
    "fig = go.Figure()\n",
    "fig_2 = go.Figure()\n",
    "fig.update_layout(scene = dict(xaxis_title='Std Coliform',yaxis_title='Std Conductance',zaxis_title='Std Turbidity'))\n",
    "for i in range(len(good_sites)):\n",
    "    samp_i = samples[samples['Loc']==good_sites[i]]\n",
    "    fig.add_trace(go.Scatter3d(x=samp_i['Col_Std'].tolist(),y=samp_i['Con_Std'].tolist(),z=samp_i['Tur_Std'].tolist(),name=good_sites[i],mode='markers',marker=dict(size=3,color=i)))\n",
    "    fig_2.add_trace(go.Scatter(x=samp_i['Date'].tolist(),y=samp_i['Col_Std'].tolist()))\n",
    "\n",
    "plotly.offline.plot(fig, filename='totalcoliform.html')\n",
    "plotly.offline.plot(fig_2, filename='totalcoliform_2.html')"
   ]
  },
  {
   "cell_type": "code",
   "execution_count": null,
   "metadata": {},
   "outputs": [],
   "source": []
  }
 ],
 "metadata": {
  "colab": {
   "name": "data poking.ipynb",
   "provenance": []
  },
  "kernelspec": {
   "display_name": "Python 3",
   "language": "python",
   "name": "python3"
  },
  "language_info": {
   "codemirror_mode": {
    "name": "ipython",
    "version": 3
   },
   "file_extension": ".py",
   "mimetype": "text/x-python",
   "name": "python",
   "nbconvert_exporter": "python",
   "pygments_lexer": "ipython3",
   "version": "3.7.3"
  }
 },
 "nbformat": 4,
 "nbformat_minor": 1
}
